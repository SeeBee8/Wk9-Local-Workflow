{
 "cells": [
  {
   "cell_type": "markdown",
   "id": "7eb1a767-b043-4d11-85c1-ab2fb2c66519",
   "metadata": {},
   "source": [
    "#0821 CodeAlong"
   ]
  },
  {
   "cell_type": "code",
   "execution_count": 2,
   "id": "a3d59466-5b31-44d4-9b71-a56bc1a2a56b",
   "metadata": {},
   "outputs": [],
   "source": [
    "import pandas as pd\n",
    "import seaborn as sns\n",
    "import matplotlib.pyplot as plt\n",
    "import numpy as np"
   ]
  },
  {
   "cell_type": "code",
   "execution_count": null,
   "id": "02d3ef56-cfea-4a91-aea3-cc44d3ea6ff9",
   "metadata": {},
   "outputs": [],
   "source": [
    "df=pd.read_csv(Data/)"
   ]
  },
  {
   "cell_type": "code",
   "execution_count": null,
   "id": "9952be93-8c49-4d78-b700-9315bd8961d0",
   "metadata": {},
   "outputs": [],
   "source": [
    "df.info()"
   ]
  },
  {
   "cell_type": "code",
   "execution_count": null,
   "id": "37db9a36-60ec-4f42-bca0-2c858c3c1647",
   "metadata": {},
   "outputs": [],
   "source": [
    "df.head()"
   ]
  }
 ],
 "metadata": {
  "kernelspec": {
   "display_name": "Python (dojo-env)",
   "language": "python",
   "name": "dojo-env"
  },
  "language_info": {
   "codemirror_mode": {
    "name": "ipython",
    "version": 3
   },
   "file_extension": ".py",
   "mimetype": "text/x-python",
   "name": "python",
   "nbconvert_exporter": "python",
   "pygments_lexer": "ipython3",
   "version": "3.10.10"
  },
  "widgets": {
   "application/vnd.jupyter.widget-state+json": {
    "state": {},
    "version_major": 2,
    "version_minor": 0
   }
  }
 },
 "nbformat": 4,
 "nbformat_minor": 5
}
